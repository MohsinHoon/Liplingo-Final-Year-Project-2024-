{
  "nbformat": 4,
  "nbformat_minor": 0,
  "metadata": {
    "colab": {
      "provenance": [],
      "authorship_tag": "ABX9TyPv0GtCx5Y2tG5DgR/oZmlp",
      "include_colab_link": true
    },
    "kernelspec": {
      "name": "python3",
      "display_name": "Python 3"
    },
    "language_info": {
      "name": "python"
    }
  },
  "cells": [
    {
      "cell_type": "markdown",
      "metadata": {
        "id": "view-in-github",
        "colab_type": "text"
      },
      "source": [
        "<a href=\"https://colab.research.google.com/github/MohsinHoon/Liplingo-Final-Year-Project-2024-/blob/main/Final_Year_Project.ipynb\" target=\"_parent\"><img src=\"https://colab.research.google.com/assets/colab-badge.svg\" alt=\"Open In Colab\"/></a>"
      ]
    },
    {
      "cell_type": "code",
      "execution_count": null,
      "metadata": {
        "id": "e2xjQVCiGqyd"
      },
      "outputs": [],
      "source": [
        "!pip install opencv-python matplotlib imageio gdown tensorflow"
      ]
    },
    {
      "cell_type": "code",
      "source": [
        "!pip install soundfile"
      ],
      "metadata": {
        "id": "VOmzEMpkLgfZ"
      },
      "execution_count": null,
      "outputs": []
    },
    {
      "cell_type": "code",
      "source": [
        "import os\n",
        "import cv2\n",
        "import tensorflow as tf\n",
        "import numpy as np\n",
        "from typing import List\n",
        "from matplotlib import pyplot as plt\n",
        "import imageio\n",
        "import soundfile as sf\n"
      ],
      "metadata": {
        "id": "t9txKEMnHHCC"
      },
      "execution_count": null,
      "outputs": []
    },
    {
      "cell_type": "markdown",
      "source": [
        "Configurring GPU for access"
      ],
      "metadata": {
        "id": "PSGHZZJQf5w4"
      }
    },
    {
      "cell_type": "code",
      "source": [
        "tf.config.list_physical_devices('GPU')"
      ],
      "metadata": {
        "id": "-skOd6JBHJ4n"
      },
      "execution_count": null,
      "outputs": []
    },
    {
      "cell_type": "markdown",
      "source": [
        "Whether the GPU available on Not"
      ],
      "metadata": {
        "id": "xygrmm1ngF-9"
      }
    },
    {
      "cell_type": "code",
      "source": [
        "physical_devices = tf.config.list_physical_devices('GPU')\n",
        "try:\n",
        "    tf.config.experimental.set_memory_growth(physical_devices[0], True)\n",
        "except:\n",
        "    pass"
      ],
      "metadata": {
        "id": "LYdRuL0uHM3h"
      },
      "execution_count": null,
      "outputs": []
    },
    {
      "cell_type": "markdown",
      "source": [
        "**Building the Data Loading Function**"
      ],
      "metadata": {
        "id": "NC4FuKcSI0Is"
      }
    },
    {
      "cell_type": "code",
      "source": [
        "import gdown"
      ],
      "metadata": {
        "id": "BQPD27adHOoz"
      },
      "execution_count": null,
      "outputs": []
    },
    {
      "cell_type": "markdown",
      "source": [
        "Fetching the dataset directly from the google drive available publcaly\n",
        "Videos with their Alignments"
      ],
      "metadata": {
        "id": "3goQpURUgYQC"
      }
    },
    {
      "cell_type": "code",
      "source": [
        "url = 'https://drive.google.com/uc?id=1YlvpDLix3S-U8fd-gqRwPcWXAXm8JwjL'\n",
        "output = 'data.zip'\n",
        "gdown.download(url, output, quiet=False)\n",
        "gdown.extractall('data.zip')"
      ],
      "metadata": {
        "id": "l4Rm1sizHRaO"
      },
      "execution_count": null,
      "outputs": []
    },
    {
      "cell_type": "markdown",
      "source": [],
      "metadata": {
        "id": "qBdfXsmNglt4"
      }
    },
    {
      "cell_type": "markdown",
      "source": [
        "Loading the Video File and Pre Processing the annotations we will standanrized the video/images and making the cutout portion"
      ],
      "metadata": {
        "id": "tQXM7uMQg0XB"
      }
    },
    {
      "cell_type": "code",
      "source": [
        "def load_video(path:str) -> List[float]:\n",
        "\n",
        "    cap = cv2.VideoCapture(path)\n",
        "    frames = []\n",
        "    for _ in range(int(cap.get(cv2.CAP_PROP_FRAME_COUNT))):\n",
        "        ret, frame = cap.read()\n",
        "        frame = tf.image.rgb_to_grayscale(frame)\n",
        "        frames.append(frame[190:236,80:220,:])\n",
        "    cap.release()\n",
        "\n",
        "    mean = tf.math.reduce_mean(frames)\n",
        "    std = tf.math.reduce_std(tf.cast(frames, tf.float32))\n",
        "    return tf.cast((frames - mean), tf.float32) / std"
      ],
      "metadata": {
        "id": "QAPu2wOaHfhH"
      },
      "execution_count": null,
      "outputs": []
    },
    {
      "cell_type": "markdown",
      "source": [
        "**Defining the Vocabulary, here we only define small alphabets as because we dont have any Capital form of data , but we still can add up on these**"
      ],
      "metadata": {
        "id": "gZaOORx4iPny"
      }
    },
    {
      "cell_type": "code",
      "source": [
        "vocab = [x for x in \"abcdefghijklmnopqrstuvwxyz'?!123456789 \"]"
      ],
      "metadata": {
        "id": "37Y0Qf7ZHkdm"
      },
      "execution_count": null,
      "outputs": []
    },
    {
      "cell_type": "markdown",
      "source": [
        "Here, we are converting charchters to numbers and numbers to charchters and we are assinging one token to each charchter, i-e: Tokens are be like A=1 and Z=26"
      ],
      "metadata": {
        "id": "K_Rcx3q4igCl"
      }
    },
    {
      "cell_type": "code",
      "source": [
        "char_to_num = tf.keras.layers.StringLookup(vocabulary=vocab, oov_token=\"\")\n",
        "num_to_char = tf.keras.layers.StringLookup(\n",
        "    vocabulary=char_to_num.get_vocabulary(), oov_token=\"\", invert=True\n",
        ")\n",
        "\n",
        "print(\n",
        "    f\"The vocabulary is: {char_to_num.get_vocabulary()} \"\n",
        "    f\"(size ={char_to_num.vocabulary_size()})\"\n",
        ")"
      ],
      "metadata": {
        "id": "IY93bP37Hlqb"
      },
      "execution_count": null,
      "outputs": []
    },
    {
      "cell_type": "markdown",
      "source": [
        "Derving the Vocabulary"
      ],
      "metadata": {
        "id": "odxZYD5zjks1"
      }
    },
    {
      "cell_type": "code",
      "source": [
        "char_to_num.get_vocabulary()"
      ],
      "metadata": {
        "id": "RUKW9ucPHoRw"
      },
      "execution_count": null,
      "outputs": []
    },
    {
      "cell_type": "markdown",
      "source": [
        "**Token can visible on this LOC**"
      ],
      "metadata": {
        "id": "cxE9OWpnjs2M"
      }
    },
    {
      "cell_type": "code",
      "source": [
        "char_to_num(['l','i','p','l' ,'i', 'n', 'g', 'o' ])"
      ],
      "metadata": {
        "id": "ycnC7Cu3Hqnn"
      },
      "execution_count": null,
      "outputs": []
    },
    {
      "cell_type": "markdown",
      "source": [
        "**These show where the above charachter is on which number**"
      ],
      "metadata": {
        "id": "EUmatFzojyoz"
      }
    },
    {
      "cell_type": "code",
      "source": [
        "num_to_char([12,9,16,12,9,14,7,15])"
      ],
      "metadata": {
        "id": "DsZFI8C3IJGq"
      },
      "execution_count": null,
      "outputs": []
    },
    {
      "cell_type": "markdown",
      "source": [
        "*Here, we are loading the Alingments for the video like where the as the sound and lip movements matches the Video, Thats why it is difficult to make a custom dataset because we are unable to figure the alingmnets* bold text"
      ],
      "metadata": {
        "id": "K5veWM_NkD8_"
      }
    },
    {
      "cell_type": "code",
      "source": [
        "def load_alignments(path:str) -> List[str]:\n",
        "    with open(path, 'r') as f:\n",
        "        lines = f.readlines()\n",
        "    tokens = []\n",
        "    for line in lines:\n",
        "        line = line.split()\n",
        "        if line[2] != 'sil':\n",
        "            tokens = [*tokens,' ',line[2]]\n",
        "    return char_to_num(tf.reshape(tf.strings.unicode_split(tokens, input_encoding='UTF-8'), (-1)))[1:]"
      ],
      "metadata": {
        "id": "FJ55mY-mIafq"
      },
      "execution_count": null,
      "outputs": []
    },
    {
      "cell_type": "code",
      "source": [
        "def load_data(path: str):\n",
        "    path = bytes.decode(path.numpy())\n",
        "    #file_name = path.split('/')[-1].split('.')[0]\n",
        "    # File name splitting for windows\n",
        "    file_name = path.split('\\\\')[-1].split('.')[0]\n",
        "    #file_name = path.split('/')[-1].split('.')[0]\n",
        "    video_path = os.path.join('data','s1',f'{file_name}.mpg')\n",
        "    alignment_path = os.path.join('data','alignments','s1',f'{file_name}.align')\n",
        "    frames = load_video(video_path)\n",
        "    alignments = load_alignments(alignment_path)\n",
        "\n",
        "    return frames, alignments"
      ],
      "metadata": {
        "id": "lCrcOxgmGoNb"
      },
      "execution_count": null,
      "outputs": []
    },
    {
      "cell_type": "markdown",
      "source": [
        "**Testing the Path**"
      ],
      "metadata": {
        "id": "EL4Fvcu-kdVe"
      }
    },
    {
      "cell_type": "code",
      "source": [
        "test_path = '.\\\\data\\\\s1\\\\bbal6n.mpg'"
      ],
      "metadata": {
        "id": "hfvpIQejIdUH"
      },
      "execution_count": null,
      "outputs": []
    },
    {
      "cell_type": "markdown",
      "source": [
        "**Through .tf we decoding the numpy array as we convert on above code**"
      ],
      "metadata": {
        "id": "sB_waT_VkhnK"
      }
    },
    {
      "cell_type": "code",
      "source": [
        "tf.convert_to_tensor(test_path).numpy().decode('utf-8').split('\\\\')[-1].split('.')[0]"
      ],
      "metadata": {
        "id": "tXPwSI3sIf9H"
      },
      "execution_count": null,
      "outputs": []
    },
    {
      "cell_type": "code",
      "source": [
        "frames, alignments = load_data(tf.convert_to_tensor(test_path))"
      ],
      "metadata": {
        "id": "TIPV9akNFd7x"
      },
      "execution_count": null,
      "outputs": []
    },
    {
      "cell_type": "code",
      "source": [
        "plt.imshow(frames[40])"
      ],
      "metadata": {
        "colab": {
          "base_uri": "https://localhost:8080/",
          "height": 245
        },
        "id": "BXH899JOGspI",
        "outputId": "6c29384c-3ba4-4bde-aedf-370d0db6a783"
      },
      "execution_count": null,
      "outputs": [
        {
          "output_type": "execute_result",
          "data": {
            "text/plain": [
              "<matplotlib.image.AxesImage at 0x7da124552b60>"
            ]
          },
          "metadata": {},
          "execution_count": 19
        },
        {
          "output_type": "display_data",
          "data": {
            "text/plain": [
              "<Figure size 640x480 with 1 Axes>"
            ],
            "image/png": "[encoded data removed]"
          },
          "metadata": {}
        }
      ]
    },
    {
      "cell_type": "code",
      "source": [
        "alignments"
      ],
      "metadata": {
        "id": "dkR8z3mhGykp"
      },
      "execution_count": null,
      "outputs": []
    },
    {
      "cell_type": "code",
      "source": [
        "tf.strings.reduce_join([bytes.decode(x) for x in num_to_char(alignments.numpy()).numpy()])"
      ],
      "metadata": {
        "id": "x5vysvxiG28v"
      },
      "execution_count": null,
      "outputs": []
    },
    {
      "cell_type": "code",
      "source": [
        "def mappable_function(path:str) ->List[str]:\n",
        "    result = tf.py_function(load_data, [path], (tf.float32, tf.int64))\n",
        "    return result"
      ],
      "metadata": {
        "id": "JmTZOeiaG56m"
      },
      "execution_count": null,
      "outputs": []
    },
    {
      "cell_type": "markdown",
      "source": [
        "**Creating the Data Pipeline **"
      ],
      "metadata": {
        "id": "EUB5Scvl9nd3"
      }
    },
    {
      "cell_type": "code",
      "source": [
        "from matplotlib import pyplot as plt"
      ],
      "metadata": {
        "id": "odcI_aElG7gf"
      },
      "execution_count": null,
      "outputs": []
    },
    {
      "cell_type": "code",
      "source": [
        "data = tf.data.Dataset.list_files('./data/s1/*.mpg')\n",
        "data = data.shuffle(500, reshuffle_each_iteration=False)\n",
        "data = data.map(mappable_function)\n",
        "data = data.padded_batch(2, padded_shapes=([75,None,None,None],[40]))\n",
        "data = data.prefetch(tf.data.AUTOTUNE)\n",
        "# Added for split\n",
        "train = data.take(700)\n",
        "test = data.skip(200)"
      ],
      "metadata": {
        "id": "ftZkcJqLG-Lr"
      },
      "execution_count": null,
      "outputs": []
    },
    {
      "cell_type": "code",
      "source": [
        "#data.as_numpy_iterator().next()"
      ],
      "metadata": {
        "id": "enBsmZYxy4OI"
      },
      "execution_count": null,
      "outputs": []
    },
    {
      "cell_type": "code",
      "source": [
        "len(test)"
      ],
      "metadata": {
        "id": "Pwpvy7PAHB66"
      },
      "execution_count": null,
      "outputs": []
    },
    {
      "cell_type": "code",
      "source": [
        "#alingnment_path=\"/content/data/alignments/s1\""
      ],
      "metadata": {
        "id": "0XRfuhiUkQ7T"
      },
      "execution_count": null,
      "outputs": []
    },
    {
      "cell_type": "code",
      "source": [
        "frames, alignments = data.as_numpy_iterator().next()"
      ],
      "metadata": {
        "id": "RYcZTPMQHFCK"
      },
      "execution_count": null,
      "outputs": []
    },
    {
      "cell_type": "code",
      "source": [
        "len(frames)"
      ],
      "metadata": {
        "id": "Jk_e2_-wJLPc"
      },
      "execution_count": null,
      "outputs": []
    },
    {
      "cell_type": "code",
      "source": [
        "sample = data.as_numpy_iterator()"
      ],
      "metadata": {
        "id": "DIcN5ttUwoSf"
      },
      "execution_count": null,
      "outputs": []
    },
    {
      "cell_type": "code",
      "source": [
        "val = sample.next(); val[0]"
      ],
      "metadata": {
        "id": "uVPmaJD6wqBW"
      },
      "execution_count": null,
      "outputs": []
    },
    {
      "cell_type": "code",
      "source": [
        "sample =data.as_numoy_iterator()\n",
        "val =sample.next()\n",
        "fv=(val[0][1].astype(np.uint8)*255).squeeze()\n",
        "imageio.mimsave('./animation.gif',fv,duration=100)\n"
      ],
      "metadata": {
        "id": "qXim0hy2wuJz"
      },
      "execution_count": null,
      "outputs": []
    },
    {
      "cell_type": "code",
      "source": [
        "# 0:videos, 0: 1st video out of the batch,  0: return the first frame in the video\n",
        "plt.imshow(val[0][0][35])"
      ],
      "metadata": {
        "id": "to-cY-LEwv5r"
      },
      "execution_count": null,
      "outputs": []
    },
    {
      "cell_type": "markdown",
      "source": [
        "**This is how the animation look like , actually using the mimsave argument we are creating the gifs from which we are going to predict.**"
      ],
      "metadata": {
        "id": "sRODCPgi-jEI"
      }
    },
    {
      "cell_type": "markdown",
      "source": [
        "![001.PNG](data:image/png;base64,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)\n"
      ],
      "metadata": {
        "id": "NIHJlusG3J8M"
      }
    },
    {
      "cell_type": "code",
      "source": [
        "tf.strings.reduce_join([num_to_char(word) for word in val[1][0]])"
      ],
      "metadata": {
        "id": "7ab1615Rw4cF"
      },
      "execution_count": null,
      "outputs": []
    },
    {
      "cell_type": "markdown",
      "source": [
        "# **Building up the Neural NETWORK**"
      ],
      "metadata": {
        "id": "M-lzmKFN-yU9"
      }
    },
    {
      "cell_type": "code",
      "source": [
        "from tensorflow.keras.models import Sequential\n",
        "from tensorflow.keras.layers import Conv3D, LSTM, Dense, Dropout, Bidirectional, MaxPool3D, Activation, Reshape, SpatialDropout3D, BatchNormalization, TimeDistributed, Flatten\n",
        "from tensorflow.keras.optimizers import Adam\n",
        "from tensorflow.keras.callbacks import ModelCheckpoint, LearningRateScheduler"
      ],
      "metadata": {
        "id": "AAODIvdnw5CI"
      },
      "execution_count": null,
      "outputs": []
    },
    {
      "cell_type": "code",
      "source": [
        "data.as_numpy_iterator().next()[0][0].shape"
      ],
      "metadata": {
        "id": "bKfwEBaM0kaF"
      },
      "execution_count": null,
      "outputs": []
    },
    {
      "cell_type": "markdown",
      "source": [
        "Using Sequential Modelling we are going to make sequence for the audio and video frames to creates gifs for the prection"
      ],
      "metadata": {
        "id": "Sl8nsgi4-_6h"
      }
    },
    {
      "cell_type": "code",
      "source": [
        "model = Sequential()\n",
        "model.add(Conv3D(128, 3, input_shape=(75,46,140,1), padding='same'))\n",
        "model.add(Activation('relu'))\n",
        "model.add(MaxPool3D((1,2,2)))\n",
        "\n",
        "model.add(Conv3D(256, 3, padding='same'))\n",
        "model.add(Activation('relu'))\n",
        "model.add(MaxPool3D((1,2,2)))\n",
        "\n",
        "model.add(Conv3D(75, 3, padding='same'))\n",
        "model.add(Activation('relu'))\n",
        "model.add(MaxPool3D((1,2,2)))\n",
        "\n",
        "model.add(TimeDistributed(Flatten()))\n",
        "\n",
        "model.add(Bidirectional(LSTM(128, kernel_initializer='Orthogonal', return_sequences=True)))\n",
        "model.add(Dropout(.5))\n",
        "\n",
        "model.add(Bidirectional(LSTM(128, kernel_initializer='Orthogonal', return_sequences=True)))\n",
        "model.add(Dropout(.5))\n",
        "\n",
        "model.add(Dense(char_to_num.vocabulary_size()+1, kernel_initializer='he_normal', activation='softmax'))"
      ],
      "metadata": {
        "id": "kJYs4GwA0uPQ"
      },
      "execution_count": null,
      "outputs": []
    },
    {
      "cell_type": "markdown",
      "source": [
        "Summary for the model that how many parameters are there in the moel which are trainable or not"
      ],
      "metadata": {
        "id": "6xCQS10u_OWI"
      }
    },
    {
      "cell_type": "code",
      "source": [
        "model.summary()"
      ],
      "metadata": {
        "id": "LTX1Dgxg0xkZ"
      },
      "execution_count": null,
      "outputs": []
    },
    {
      "cell_type": "markdown",
      "source": [
        "┏━━━━━━━━━━━━━━━━━━━━━━━━━━━━━━━━━┳━━━━━━━━━━━━━━━━━━━━━━━━┳━━━━━━━━━━━━━━━┓\n",
        "┃ Layer (type)                    ┃ Output Shape           ┃       Param # ┃\n",
        "┡━━━━━━━━━━━━━━━━━━━━━━━━━━━━━━━━━╇━━━━━━━━━━━━━━━━━━━━━━━━╇━━━━━━━━━━━━━━━┩\n",
        "│ conv3d_33 (Conv3D)              │ (None, 75, 46, 140,    │         3,584 │\n",
        "│                                 │ 128)                   │               │\n",
        "├─────────────────────────────────┼────────────────────────┼───────────────┤\n",
        "│ activation_32 (Activation)      │ (None, 75, 46, 140,    │             0 │\n",
        "│                                 │ 128)                   │               │\n",
        "├─────────────────────────────────┼────────────────────────┼───────────────┤\n",
        "│ max_pooling3d_32 (MaxPooling3D) │ (None, 75, 23, 70,     │             0 │\n",
        "│                                 │ 128)                   │               │\n",
        "├─────────────────────────────────┼────────────────────────┼───────────────┤\n",
        "│ conv3d_34 (Conv3D)              │ (None, 75, 23, 70,     │       884,992 │\n",
        "│                                 │ 256)                   │               │\n",
        "├─────────────────────────────────┼────────────────────────┼───────────────┤\n",
        "│ activation_33 (Activation)      │ (None, 75, 23, 70,     │             0 │\n",
        "│                                 │ 256)                   │               │\n",
        "├─────────────────────────────────┼────────────────────────┼───────────────┤\n",
        "│ max_pooling3d_33 (MaxPooling3D) │ (None, 75, 11, 35,     │             0 │\n",
        "│                                 │ 256)                   │               │\n",
        "├─────────────────────────────────┼────────────────────────┼───────────────┤\n",
        "│ conv3d_35 (Conv3D)              │ (None, 75, 11, 35, 75) │       518,475 │\n",
        "├─────────────────────────────────┼────────────────────────┼───────────────┤\n",
        "│ activation_34 (Activation)      │ (None, 75, 11, 35, 75) │             0 │\n",
        "├─────────────────────────────────┼────────────────────────┼───────────────┤\n",
        "│ max_pooling3d_34 (MaxPooling3D) │ (None, 75, 5, 17, 75)  │             0 │\n",
        "├─────────────────────────────────┼────────────────────────┼───────────────┤\n",
        "│ time_distributed_9              │ (None, 75, 6375)       │             0 │\n",
        "│ (TimeDistributed)               │                        │               │\n",
        "├─────────────────────────────────┼────────────────────────┼───────────────┤\n",
        "│ bidirectional (Bidirectional)   │ (None, 75, 256)        │     6,660,096 │\n",
        "├─────────────────────────────────┼────────────────────────┼───────────────┤\n",
        "│ dropout (Dropout)               │ (None, 75, 256)        │             0 │\n",
        "├─────────────────────────────────┼────────────────────────┼───────────────┤\n",
        "│ bidirectional_1 (Bidirectional) │ (None, 75, 256)        │       394,240 │\n",
        "├─────────────────────────────────┼────────────────────────┼───────────────┤\n",
        "│ dropout_1 (Dropout)             │ (None, 75, 256)        │             0 │\n",
        "├─────────────────────────────────┼────────────────────────┼───────────────┤\n",
        "│ dense (Dense)                   │ (None, 75, 41)         │        10,537 │\n",
        "└─────────────────────────────────┴────────────────────────┴───────────────┘"
      ],
      "metadata": {
        "id": "uBIxP3Mz4zQr"
      }
    },
    {
      "cell_type": "code",
      "source": [
        "yhat = model.predict(val[0])"
      ],
      "metadata": {
        "id": "KFmhvXMD08PA"
      },
      "execution_count": null,
      "outputs": []
    },
    {
      "cell_type": "code",
      "source": [
        "tf.strings.reduce_join([num_to_char(x) for x in tf.argmax(yhat[0],axis=1)])"
      ],
      "metadata": {
        "id": "ohGj6D_m1DPP"
      },
      "execution_count": null,
      "outputs": []
    },
    {
      "cell_type": "code",
      "source": [
        "tf.strings.reduce_join([num_to_char(tf.argmax(x)) for x in yhat[0]])"
      ],
      "metadata": {
        "id": "j634cgfM1E5j"
      },
      "execution_count": null,
      "outputs": []
    },
    {
      "cell_type": "code",
      "source": [
        "model.input_shape"
      ],
      "metadata": {
        "id": "iguyoktf1G13"
      },
      "execution_count": null,
      "outputs": []
    },
    {
      "cell_type": "code",
      "source": [
        "model.output_shape"
      ],
      "metadata": {
        "id": "osOrVA831I5Y"
      },
      "execution_count": null,
      "outputs": []
    },
    {
      "cell_type": "markdown",
      "source": [
        "#**Setting up the Train and Test Option for the Project **"
      ],
      "metadata": {
        "id": "GZAZi0x1_bKV"
      }
    },
    {
      "cell_type": "code",
      "source": [
        "def scheduler(epoch, lr):\n",
        "    if epoch < 30:\n",
        "        return lr\n",
        "    else:\n",
        "        return lr * tf.math.exp(-0.1)"
      ],
      "metadata": {
        "id": "pulIHCSx1MA6"
      },
      "execution_count": null,
      "outputs": []
    },
    {
      "cell_type": "markdown",
      "source": [
        "**Calculating the loss using the CTC LOSS function ,as  because it perform well on images and video sequencing**"
      ],
      "metadata": {
        "id": "lB9hOH9K_lXO"
      }
    },
    {
      "cell_type": "code",
      "source": [
        "def CTCLoss(y_true, y_pred):\n",
        "    batch_len = tf.cast(tf.shape(y_true)[0], dtype=\"int64\")\n",
        "    input_length = tf.cast(tf.shape(y_pred)[1], dtype=\"int64\")\n",
        "    label_length = tf.cast(tf.shape(y_true)[1], dtype=\"int64\")\n",
        "\n",
        "    input_length = input_length * tf.ones(shape=(batch_len, 1), dtype=\"int64\")\n",
        "    label_length = label_length * tf.ones(shape=(batch_len, 1), dtype=\"int64\")\n",
        "\n",
        "    loss = tf.keras.backend.ctc_batch_cost(y_true, y_pred, input_length, label_length)\n",
        "    return loss"
      ],
      "metadata": {
        "id": "B8PqwCCc1O0j"
      },
      "execution_count": null,
      "outputs": []
    },
    {
      "cell_type": "markdown",
      "source": [
        "Actually generating the predition using the class method converting the num to char and char to num function"
      ],
      "metadata": {
        "id": "wrzD_69w_5Rc"
      }
    },
    {
      "cell_type": "code",
      "source": [
        "class ProduceExample(tf.keras.callbacks.Callback):\n",
        "    def __init__(self, dataset) -> None:\n",
        "        self.dataset = dataset.as_numpy_iterator()\n",
        "\n",
        "    def on_epoch_end(self, epoch, logs=None) -> None:\n",
        "        data = self.dataset.next()\n",
        "        yhat = self.model.predict(data[0])\n",
        "        decoded = tf.keras.backend.ctc_decode(yhat, [75,75], greedy=False)[0][0].numpy()\n",
        "        for x in range(len(yhat)):\n",
        "            print('Original:', tf.strings.reduce_join(num_to_char(data[1][x])).numpy().decode('utf-8'))\n",
        "            print('Prediction:', tf.strings.reduce_join(num_to_char(decoded[x])).numpy().decode('utf-8'))\n",
        "            print('~'*100)"
      ],
      "metadata": {
        "id": "IvYK6F5N1Q0e"
      },
      "execution_count": null,
      "outputs": []
    },
    {
      "cell_type": "markdown",
      "source": [
        "Optimizing the Complilation using the Adam Optimizer"
      ],
      "metadata": {
        "id": "b9DBvge9AE7p"
      }
    },
    {
      "cell_type": "code",
      "source": [
        "model.compile(optimizer=Adam(learning_rate=0.0001), loss=CTCLoss)"
      ],
      "metadata": {
        "id": "6ElzXE901SsG"
      },
      "execution_count": null,
      "outputs": []
    },
    {
      "cell_type": "code",
      "source": [
        "checkpoint_callback = ModelCheckpoint(os.path.join('models','checkpoint'), monitor='loss', save_weights_only=True)"
      ],
      "metadata": {
        "id": "mjaPegsz1VN5"
      },
      "execution_count": null,
      "outputs": []
    },
    {
      "cell_type": "code",
      "source": [
        "schedule_callback = LearningRateScheduler(scheduler)"
      ],
      "metadata": {
        "id": "AO1J8anZ1XVT"
      },
      "execution_count": null,
      "outputs": []
    },
    {
      "cell_type": "code",
      "source": [
        "example_callback = ProduceExample(test)"
      ],
      "metadata": {
        "id": "PLE5DEFt1Zjg"
      },
      "execution_count": null,
      "outputs": []
    },
    {
      "cell_type": "markdown",
      "source": [
        "Getting Error while running this LOC throwing Graph Execution Error currently i am only trying for 10 epocs to test but throwing the error"
      ],
      "metadata": {
        "id": "1ODcpA8e9H-X"
      }
    },
    {
      "cell_type": "code",
      "source": [
        "model.fit(train, validation_data=test, epochs=10, callbacks=[checkpoint_callback, schedule_callback, example_callback])"
      ],
      "metadata": {
        "id": "Eww10lfC1bc7"
      },
      "execution_count": null,
      "outputs": []
    },
    {
      "cell_type": "markdown",
      "source": [],
      "metadata": {
        "id": "ZMmq3-8D9F0D"
      }
    }
  ]
}